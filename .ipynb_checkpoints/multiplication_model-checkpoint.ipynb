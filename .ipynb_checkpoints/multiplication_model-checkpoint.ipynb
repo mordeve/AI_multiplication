{
 "cells": [
  {
   "cell_type": "code",
   "execution_count": 73,
   "id": "governing-subsection",
   "metadata": {},
   "outputs": [],
   "source": [
    "import tensorflow as tf\n",
    "import numpy as np\n",
    "from tensorflow.keras.models import Sequential\n",
    "from tensorflow.keras import layers\n",
    "from sklearn.linear_model import LinearRegression\n",
    "from sklearn.model_selection import train_test_split\n",
    "from sklearn.metrics import mean_squared_error\n",
    "import matplotlib.pyplot as plt\n",
    "%matplotlib inline"
   ]
  },
  {
   "cell_type": "markdown",
   "id": "mature-three",
   "metadata": {},
   "source": [
    "## Preparing the Dataset\n",
    "$ a * b = y == \\ln(a) + \\ln(b) = \\ln(y) $\n",
    "\n",
    "The validation set has been defined as a parameter of the model.fit () function. It was generated from 10% of the training data set."
   ]
  },
  {
   "cell_type": "code",
   "execution_count": 132,
   "id": "damaged-stage",
   "metadata": {},
   "outputs": [
    {
     "name": "stdout",
     "output_type": "stream",
     "text": [
      "Train Set Size      : (40000, 2)\n",
      "Test Set Size       : (4000, 2)\n"
     ]
    }
   ],
   "source": [
    "import random as rnd\n",
    "\n",
    "X_train = []\n",
    "Y_train = []\n",
    "\n",
    "# X_val = []\n",
    "# Y_val = []\n",
    "\n",
    "X_test = []\n",
    "Y_test = []\n",
    "\n",
    "for i in range( 10000 ): ## train data random\n",
    "    r1 = rnd.randint(1, 90) \n",
    "    r2 = rnd.randint(1, 100)\n",
    "    X_train.append( [   np.log( r1 ) , np.log( r2 ) ] )\n",
    "    Y_train.append( [1, np.log( r1 ) + np.log( r2 ) ] ) ## case: 1\n",
    "    \n",
    "    r1 = rnd.randint(1, 90) \n",
    "    r2 = rnd.randint(1, 100)\n",
    "    X_train.append( [   -np.log( r1 ) , np.log( r2 ) ] )\n",
    "    Y_train.append( [-1, np.log( r1 ) + np.log( r2 ) ] ) ## case: 2\n",
    "    \n",
    "    r1 = rnd.randint(1, 90)\n",
    "    r2 = rnd.randint(1, 100)\n",
    "    X_train.append( [    np.log( r1 ) , -np.log( r2 ) ] )\n",
    "    Y_train.append( [-1, np.log( r1 ) +  np.log( r2 ) ] ) ## case: 3\n",
    "    \n",
    "    r1 = rnd.randint(1, 90)\n",
    "    r2 = rnd.randint(1, 100)\n",
    "    X_train.append( [   -np.log( r1 ) , -np.log( r2 ) ] )\n",
    "    Y_train.append( [1,  np.log( r1 ) +  np.log( r2 ) ] ) ## case: 4\n",
    "    \n",
    "#for a in range(81, 91): ## validation_data ( Not used as manually. Used automatically in model.fit() )\n",
    "#    for b in range(1, 101):\n",
    "#        X_val.append( [   np.log( a ) , np.log( b ) ] )\n",
    "#        Y_val.append( [1, np.log( a ) + np.log( b ) ] )\n",
    "        \n",
    "#        X_val.append( [   -np.log( a ) , np.log( b ) ] )\n",
    "#        Y_val.append( [-1, np.log( a ) + np.log( b ) ] )\n",
    "        \n",
    "#        X_val.append( [    np.log( a ) , -np.log( b ) ] )\n",
    "#        Y_val.append( [-1, np.log( a ) +  np.log( b ) ] )\n",
    "        \n",
    "#        X_val.append( [  -np.log( a ) , -np.log( b ) ] )\n",
    "#        Y_val.append( [1, np.log( a ) +  np.log( b ) ] )\n",
    "        \n",
    "for a in range(91, 101): ## test_data\n",
    "    for b in range(1, 101):\n",
    "        X_test.append( [   np.log( a ) , np.log( b ) ] )\n",
    "        Y_test.append( [1, np.log( a ) + np.log( b ) ] )\n",
    "        \n",
    "        X_test.append( [   -np.log( a ) , np.log( b ) ] )\n",
    "        Y_test.append( [-1, np.log( a ) + np.log( b ) ] )\n",
    "        \n",
    "        X_test.append( [    np.log( a ) , -np.log( b ) ] )\n",
    "        Y_test.append( [-1, np.log( a ) +  np.log( b ) ] )\n",
    "        \n",
    "        X_test.append( [  -np.log( a ) , -np.log( b ) ] )\n",
    "        Y_test.append( [1, np.log( a ) +  np.log( b ) ] )\n",
    "        \n",
    "X_train = np.array( X_train )        \n",
    "Y_train = np.array( Y_train )\n",
    "\n",
    "# X_val = np.array( X_val )        \n",
    "# Y_val = np.array( Y_val )\n",
    "\n",
    "X_test = np.array( X_test )        \n",
    "Y_test = np.array( Y_test )\n",
    "\n",
    "print( f\"Train Set Size      : {X_train.shape}\" )\n",
    "# print( f\"Validation Set Size : {X_val.shape}\"   )\n",
    "print( f\"Test Set Size       : {X_test.shape}\"   )"
   ]
  },
  {
   "cell_type": "markdown",
   "id": "moral-update",
   "metadata": {},
   "source": [
    "## MODEL"
   ]
  },
  {
   "cell_type": "code",
   "execution_count": 111,
   "id": "limited-development",
   "metadata": {},
   "outputs": [
    {
     "name": "stdout",
     "output_type": "stream",
     "text": [
      "Model: \"sequential_4\"\n",
      "_________________________________________________________________\n",
      "Layer (type)                 Output Shape              Param #   \n",
      "=================================================================\n",
      "dense_12 (Dense)             (None, 50)                150       \n",
      "_________________________________________________________________\n",
      "dense_13 (Dense)             (None, 50)                2550      \n",
      "_________________________________________________________________\n",
      "dense_14 (Dense)             (None, 2)                 102       \n",
      "=================================================================\n",
      "Total params: 2,802\n",
      "Trainable params: 2,802\n",
      "Non-trainable params: 0\n",
      "_________________________________________________________________\n"
     ]
    }
   ],
   "source": [
    "model = tf.keras.Sequential()\n",
    "model.add(layers.Dense(50, input_dim=2, activation=tf.nn.relu))\n",
    "model.add(layers.Dense(50, activation=tf.nn.relu))\n",
    "model.add(layers.Dense(2 , activation='linear'))\n",
    "\n",
    "model.summary()\n",
    "model.compile( optimizer='adam', loss='MSE' )"
   ]
  },
  {
   "cell_type": "markdown",
   "id": "other-threshold",
   "metadata": {},
   "source": [
    "### Pre-Trained Model"
   ]
  },
  {
   "cell_type": "code",
   "execution_count": 121,
   "id": "intense-thirty",
   "metadata": {},
   "outputs": [
    {
     "name": "stdout",
     "output_type": "stream",
     "text": [
      "Model: \"sequential_27\"\n",
      "_________________________________________________________________\n",
      "Layer (type)                 Output Shape              Param #   \n",
      "=================================================================\n",
      "dense_81 (Dense)             (None, 50)                150       \n",
      "_________________________________________________________________\n",
      "dense_82 (Dense)             (None, 50)                2550      \n",
      "_________________________________________________________________\n",
      "dense_83 (Dense)             (None, 2)                 102       \n",
      "=================================================================\n",
      "Total params: 2,802\n",
      "Trainable params: 2,802\n",
      "Non-trainable params: 0\n",
      "_________________________________________________________________\n"
     ]
    }
   ],
   "source": [
    "model = tf.keras.models.load_model( \"model_1.h5\" )\n",
    "\n",
    "# Show the model architecture\n",
    "model.summary()"
   ]
  },
  {
   "cell_type": "markdown",
   "id": "actual-equity",
   "metadata": {},
   "source": [
    "### Load Saved Dataset"
   ]
  },
  {
   "cell_type": "code",
   "execution_count": 133,
   "id": "optimum-fusion",
   "metadata": {},
   "outputs": [
    {
     "name": "stdout",
     "output_type": "stream",
     "text": [
      "Datasets have been loaded.\n",
      "Train Set Size      : (40000, 2)\n",
      "Test Set Size       : (4000, 2)\n"
     ]
    }
   ],
   "source": [
    "with open('train.npy', 'rb') as f:\n",
    "    X_train = np.load(f)\n",
    "    Y_train = np.load(f)\n",
    "    \n",
    "#with open('validation.npy', 'rb') as f:\n",
    "#    X_val = np.load(f)\n",
    "#    Y_val = np.load(f)\n",
    "    \n",
    "with open('test.npy', 'rb') as f:\n",
    "    X_test = np.load(f)\n",
    "    Y_test = np.load(f)\n",
    "\n",
    "print( f\"Datasets have been loaded.\" )\n",
    "print( f\"Train Set Size      : {X_train.shape}\" )\n",
    "# print( f\"Validation Set Size : {X_val.shape}\"   )\n",
    "print( f\"Test Set Size       : {X_test.shape}\"   )"
   ]
  },
  {
   "cell_type": "markdown",
   "id": "indie-samoa",
   "metadata": {},
   "source": [
    "## Training"
   ]
  },
  {
   "cell_type": "code",
   "execution_count": 113,
   "id": "administrative-falls",
   "metadata": {},
   "outputs": [
    {
     "name": "stdout",
     "output_type": "stream",
     "text": [
      "Epoch 1/200\n",
      "1125/1125 [==============================] - 1s 411us/step - loss: 1.6232 - val_loss: 0.0266\n",
      "Epoch 2/200\n",
      "1125/1125 [==============================] - 0s 311us/step - loss: 0.0236 - val_loss: 0.0170\n",
      "Epoch 3/200\n",
      "1125/1125 [==============================] - 0s 310us/step - loss: 0.0164 - val_loss: 0.0142\n",
      "Epoch 4/200\n",
      "1125/1125 [==============================] - 0s 314us/step - loss: 0.0140 - val_loss: 0.0119\n",
      "Epoch 5/200\n",
      "1125/1125 [==============================] - 0s 310us/step - loss: 0.0125 - val_loss: 0.0131\n",
      "Epoch 6/200\n",
      "1125/1125 [==============================] - 0s 308us/step - loss: 0.0115 - val_loss: 0.0122\n",
      "Epoch 7/200\n",
      "1125/1125 [==============================] - 0s 309us/step - loss: 0.0106 - val_loss: 0.0105\n",
      "Epoch 8/200\n",
      "1125/1125 [==============================] - 0s 309us/step - loss: 0.0117 - val_loss: 0.0109\n",
      "Epoch 9/200\n",
      "1125/1125 [==============================] - 0s 311us/step - loss: 0.0107 - val_loss: 0.0117\n",
      "Epoch 10/200\n",
      "1125/1125 [==============================] - 0s 309us/step - loss: 0.0110 - val_loss: 0.0105\n",
      "Epoch 11/200\n",
      "1125/1125 [==============================] - 0s 305us/step - loss: 0.0115 - val_loss: 0.0104\n",
      "Epoch 12/200\n",
      "1125/1125 [==============================] - 0s 303us/step - loss: 0.0105 - val_loss: 0.0106\n",
      "Epoch 13/200\n",
      "1125/1125 [==============================] - 0s 304us/step - loss: 0.0111 - val_loss: 0.0098\n",
      "Epoch 14/200\n",
      "1125/1125 [==============================] - 0s 305us/step - loss: 0.0117 - val_loss: 0.0103\n",
      "Epoch 15/200\n",
      "1125/1125 [==============================] - 0s 304us/step - loss: 0.0112 - val_loss: 0.0112\n",
      "Epoch 16/200\n",
      "1125/1125 [==============================] - 0s 303us/step - loss: 0.0111 - val_loss: 0.0110\n",
      "Epoch 17/200\n",
      "1125/1125 [==============================] - 0s 304us/step - loss: 0.0110 - val_loss: 0.0103\n",
      "Epoch 18/200\n",
      "1125/1125 [==============================] - 0s 302us/step - loss: 0.0110 - val_loss: 0.0104\n",
      "Epoch 19/200\n",
      "1125/1125 [==============================] - 0s 302us/step - loss: 0.0112 - val_loss: 0.0112\n",
      "Epoch 20/200\n",
      "1125/1125 [==============================] - 0s 305us/step - loss: 0.0114 - val_loss: 0.0101\n",
      "Epoch 21/200\n",
      "1125/1125 [==============================] - 0s 303us/step - loss: 0.0111 - val_loss: 0.0110\n",
      "Epoch 22/200\n",
      "1125/1125 [==============================] - 0s 302us/step - loss: 0.0109 - val_loss: 0.0105\n",
      "Epoch 23/200\n",
      "1125/1125 [==============================] - 0s 303us/step - loss: 0.0111 - val_loss: 0.0110\n",
      "Epoch 24/200\n",
      "1125/1125 [==============================] - 0s 304us/step - loss: 0.0110 - val_loss: 0.0109\n",
      "Epoch 25/200\n",
      "1125/1125 [==============================] - 0s 304us/step - loss: 0.0102 - val_loss: 0.0100\n",
      "Epoch 26/200\n",
      "1125/1125 [==============================] - 0s 307us/step - loss: 0.0115 - val_loss: 0.0103\n",
      "Epoch 27/200\n",
      "1125/1125 [==============================] - 0s 302us/step - loss: 0.0110 - val_loss: 0.0105\n",
      "Epoch 28/200\n",
      "1125/1125 [==============================] - 0s 303us/step - loss: 0.0105 - val_loss: 0.0113\n",
      "Epoch 29/200\n",
      "1125/1125 [==============================] - 0s 302us/step - loss: 0.0109 - val_loss: 0.0109\n",
      "Epoch 30/200\n",
      "1125/1125 [==============================] - 0s 304us/step - loss: 0.0117 - val_loss: 0.0112\n",
      "Epoch 31/200\n",
      "1125/1125 [==============================] - 0s 301us/step - loss: 0.0108 - val_loss: 0.0098\n",
      "Epoch 32/200\n",
      "1125/1125 [==============================] - 0s 302us/step - loss: 0.0106 - val_loss: 0.0099\n",
      "Epoch 33/200\n",
      "1125/1125 [==============================] - 0s 303us/step - loss: 0.0108 - val_loss: 0.0104\n",
      "Epoch 34/200\n",
      "1125/1125 [==============================] - 0s 301us/step - loss: 0.0104 - val_loss: 0.0096\n",
      "Epoch 35/200\n",
      "1125/1125 [==============================] - 0s 312us/step - loss: 0.0106 - val_loss: 0.0105\n",
      "Epoch 36/200\n",
      "1125/1125 [==============================] - 0s 308us/step - loss: 0.0105 - val_loss: 0.0100\n",
      "Epoch 37/200\n",
      "1125/1125 [==============================] - 0s 304us/step - loss: 0.0110 - val_loss: 0.0099\n",
      "Epoch 38/200\n",
      "1125/1125 [==============================] - 0s 303us/step - loss: 0.0105 - val_loss: 0.0102\n",
      "Epoch 39/200\n",
      "1125/1125 [==============================] - 0s 303us/step - loss: 0.0110 - val_loss: 0.0107\n",
      "Epoch 40/200\n",
      "1125/1125 [==============================] - 0s 306us/step - loss: 0.0112 - val_loss: 0.0104\n",
      "Epoch 41/200\n",
      "1125/1125 [==============================] - 0s 304us/step - loss: 0.0108 - val_loss: 0.0098\n",
      "Epoch 42/200\n",
      "1125/1125 [==============================] - 0s 304us/step - loss: 0.0111 - val_loss: 0.0103\n",
      "Epoch 43/200\n",
      "1125/1125 [==============================] - 0s 302us/step - loss: 0.0106 - val_loss: 0.0099\n",
      "Epoch 44/200\n",
      "1125/1125 [==============================] - 0s 303us/step - loss: 0.0109 - val_loss: 0.0100\n",
      "Epoch 45/200\n",
      "1125/1125 [==============================] - 0s 303us/step - loss: 0.0110 - val_loss: 0.0098\n",
      "Epoch 46/200\n",
      "1125/1125 [==============================] - 0s 303us/step - loss: 0.0110 - val_loss: 0.0099\n",
      "Epoch 47/200\n",
      "1125/1125 [==============================] - 0s 305us/step - loss: 0.0109 - val_loss: 0.0101\n",
      "Epoch 48/200\n",
      "1125/1125 [==============================] - 0s 303us/step - loss: 0.0108 - val_loss: 0.0100\n",
      "Epoch 49/200\n",
      "1125/1125 [==============================] - 0s 303us/step - loss: 0.0101 - val_loss: 0.0107\n",
      "Epoch 50/200\n",
      "1125/1125 [==============================] - 0s 304us/step - loss: 0.0104 - val_loss: 0.0103\n",
      "Epoch 51/200\n",
      "1125/1125 [==============================] - 0s 302us/step - loss: 0.0109 - val_loss: 0.0098\n",
      "Epoch 52/200\n",
      "1125/1125 [==============================] - 0s 305us/step - loss: 0.0104 - val_loss: 0.0102\n",
      "Epoch 53/200\n",
      "1125/1125 [==============================] - 0s 306us/step - loss: 0.0111 - val_loss: 0.0098\n",
      "Epoch 54/200\n",
      "1125/1125 [==============================] - 0s 305us/step - loss: 0.0105 - val_loss: 0.0098\n",
      "Epoch 55/200\n",
      "1125/1125 [==============================] - 0s 305us/step - loss: 0.0107 - val_loss: 0.0099\n",
      "Epoch 56/200\n",
      "1125/1125 [==============================] - 0s 305us/step - loss: 0.0102 - val_loss: 0.0102\n",
      "Epoch 57/200\n",
      "1125/1125 [==============================] - 0s 304us/step - loss: 0.0109 - val_loss: 0.0104\n",
      "Epoch 58/200\n",
      "1125/1125 [==============================] - 0s 305us/step - loss: 0.0109 - val_loss: 0.0105\n",
      "Epoch 59/200\n",
      "1125/1125 [==============================] - 0s 307us/step - loss: 0.0104 - val_loss: 0.0099\n",
      "Epoch 60/200\n",
      "1125/1125 [==============================] - 0s 305us/step - loss: 0.0105 - val_loss: 0.0106\n",
      "Epoch 61/200\n",
      "1125/1125 [==============================] - 0s 307us/step - loss: 0.0103 - val_loss: 0.0100\n",
      "Epoch 62/200\n",
      "1125/1125 [==============================] - 0s 305us/step - loss: 0.0098 - val_loss: 0.0098\n",
      "Epoch 63/200\n",
      "1125/1125 [==============================] - 0s 304us/step - loss: 0.0109 - val_loss: 0.0100\n",
      "Epoch 64/200\n",
      "1125/1125 [==============================] - 0s 305us/step - loss: 0.0096 - val_loss: 0.0102\n",
      "Epoch 65/200\n",
      "1125/1125 [==============================] - 0s 305us/step - loss: 0.0107 - val_loss: 0.0097\n",
      "Epoch 66/200\n",
      "1125/1125 [==============================] - 0s 304us/step - loss: 0.0103 - val_loss: 0.0096\n",
      "Epoch 67/200\n",
      "1125/1125 [==============================] - 0s 304us/step - loss: 0.0106 - val_loss: 0.0103\n",
      "Epoch 68/200\n",
      "1125/1125 [==============================] - 0s 304us/step - loss: 0.0112 - val_loss: 0.0107\n",
      "Epoch 69/200\n",
      "1125/1125 [==============================] - 0s 306us/step - loss: 0.0098 - val_loss: 0.0097\n",
      "Epoch 70/200\n",
      "1125/1125 [==============================] - 0s 305us/step - loss: 0.0112 - val_loss: 0.0099\n",
      "Epoch 71/200\n",
      "1125/1125 [==============================] - 0s 305us/step - loss: 0.0106 - val_loss: 0.0108\n",
      "Epoch 72/200\n",
      "1125/1125 [==============================] - 0s 305us/step - loss: 0.0104 - val_loss: 0.0098\n",
      "Epoch 73/200\n",
      "1125/1125 [==============================] - 0s 304us/step - loss: 0.0104 - val_loss: 0.0098\n",
      "Epoch 74/200\n",
      "1125/1125 [==============================] - 0s 305us/step - loss: 0.0109 - val_loss: 0.0097\n",
      "Epoch 75/200\n",
      "1125/1125 [==============================] - 0s 304us/step - loss: 0.0102 - val_loss: 0.0099\n",
      "Epoch 76/200\n",
      "1125/1125 [==============================] - 0s 305us/step - loss: 0.0102 - val_loss: 0.0099\n",
      "Epoch 77/200\n",
      "1125/1125 [==============================] - 0s 304us/step - loss: 0.0104 - val_loss: 0.0100\n",
      "Epoch 78/200\n"
     ]
    },
    {
     "name": "stdout",
     "output_type": "stream",
     "text": [
      "1125/1125 [==============================] - 0s 301us/step - loss: 0.0103 - val_loss: 0.0102\n",
      "Epoch 79/200\n",
      "1125/1125 [==============================] - 0s 299us/step - loss: 0.0111 - val_loss: 0.0097\n",
      "Epoch 80/200\n",
      "1125/1125 [==============================] - 0s 301us/step - loss: 0.0104 - val_loss: 0.0106\n",
      "Epoch 81/200\n",
      "1125/1125 [==============================] - 0s 299us/step - loss: 0.0097 - val_loss: 0.0103\n",
      "Epoch 82/200\n",
      "1125/1125 [==============================] - 0s 299us/step - loss: 0.0105 - val_loss: 0.0096\n",
      "Epoch 83/200\n",
      "1125/1125 [==============================] - 0s 300us/step - loss: 0.0111 - val_loss: 0.0099\n",
      "Epoch 84/200\n",
      "1125/1125 [==============================] - 0s 301us/step - loss: 0.0111 - val_loss: 0.0100\n",
      "Epoch 85/200\n",
      "1125/1125 [==============================] - 0s 298us/step - loss: 0.0103 - val_loss: 0.0105\n",
      "Epoch 86/200\n",
      "1125/1125 [==============================] - 0s 301us/step - loss: 0.0102 - val_loss: 0.0097\n",
      "Epoch 87/200\n",
      "1125/1125 [==============================] - 0s 300us/step - loss: 0.0104 - val_loss: 0.0099\n",
      "Epoch 88/200\n",
      "1125/1125 [==============================] - 0s 300us/step - loss: 0.0106 - val_loss: 0.0102\n",
      "Epoch 89/200\n",
      "1125/1125 [==============================] - 0s 301us/step - loss: 0.0110 - val_loss: 0.0099\n",
      "Epoch 90/200\n",
      "1125/1125 [==============================] - 0s 302us/step - loss: 0.0106 - val_loss: 0.0098\n",
      "Epoch 91/200\n",
      "1125/1125 [==============================] - 0s 303us/step - loss: 0.0109 - val_loss: 0.0099\n",
      "Epoch 92/200\n",
      "1125/1125 [==============================] - 0s 303us/step - loss: 0.0106 - val_loss: 0.0099\n",
      "Epoch 93/200\n",
      "1125/1125 [==============================] - 0s 305us/step - loss: 0.0103 - val_loss: 0.0101\n",
      "Epoch 94/200\n",
      "1125/1125 [==============================] - 0s 308us/step - loss: 0.0106 - val_loss: 0.0103\n",
      "Epoch 95/200\n",
      "1125/1125 [==============================] - 0s 310us/step - loss: 0.0098 - val_loss: 0.0097\n",
      "Epoch 96/200\n",
      "1125/1125 [==============================] - 0s 308us/step - loss: 0.0099 - val_loss: 0.0100\n",
      "Epoch 97/200\n",
      "1125/1125 [==============================] - 0s 304us/step - loss: 0.0110 - val_loss: 0.0101\n",
      "Epoch 98/200\n",
      "1125/1125 [==============================] - 0s 305us/step - loss: 0.0106 - val_loss: 0.0099\n",
      "Epoch 99/200\n",
      "1125/1125 [==============================] - 0s 302us/step - loss: 0.0109 - val_loss: 0.0100\n",
      "Epoch 100/200\n",
      "1125/1125 [==============================] - 0s 303us/step - loss: 0.0100 - val_loss: 0.0107\n",
      "Epoch 101/200\n",
      "1125/1125 [==============================] - 0s 302us/step - loss: 0.0111 - val_loss: 0.0099\n",
      "Epoch 102/200\n",
      "1125/1125 [==============================] - 0s 301us/step - loss: 0.0104 - val_loss: 0.0099\n",
      "Epoch 103/200\n",
      "1125/1125 [==============================] - 0s 303us/step - loss: 0.0102 - val_loss: 0.0102\n",
      "Epoch 104/200\n",
      "1125/1125 [==============================] - 0s 302us/step - loss: 0.0107 - val_loss: 0.0102\n",
      "Epoch 105/200\n",
      "1125/1125 [==============================] - 0s 303us/step - loss: 0.0107 - val_loss: 0.0097\n",
      "Epoch 106/200\n",
      "1125/1125 [==============================] - 0s 303us/step - loss: 0.0101 - val_loss: 0.0098\n",
      "Epoch 107/200\n",
      "1125/1125 [==============================] - 0s 303us/step - loss: 0.0109 - val_loss: 0.0098\n",
      "Epoch 108/200\n",
      "1125/1125 [==============================] - 0s 303us/step - loss: 0.0100 - val_loss: 0.0099\n",
      "Epoch 109/200\n",
      "1125/1125 [==============================] - 0s 304us/step - loss: 0.0105 - val_loss: 0.0094\n",
      "Epoch 110/200\n",
      "1125/1125 [==============================] - 0s 305us/step - loss: 0.0098 - val_loss: 0.0106\n",
      "Epoch 111/200\n",
      "1125/1125 [==============================] - 0s 302us/step - loss: 0.0100 - val_loss: 0.0097\n",
      "Epoch 112/200\n",
      "1125/1125 [==============================] - 0s 302us/step - loss: 0.0101 - val_loss: 0.0097\n",
      "Epoch 113/200\n",
      "1125/1125 [==============================] - 0s 303us/step - loss: 0.0102 - val_loss: 0.0097\n",
      "Epoch 114/200\n",
      "1125/1125 [==============================] - 0s 303us/step - loss: 0.0104 - val_loss: 0.0098\n",
      "Epoch 115/200\n",
      "1125/1125 [==============================] - 0s 302us/step - loss: 0.0104 - val_loss: 0.0097\n",
      "Epoch 116/200\n",
      "1125/1125 [==============================] - 0s 303us/step - loss: 0.0109 - val_loss: 0.0096\n",
      "Epoch 117/200\n",
      "1125/1125 [==============================] - 0s 304us/step - loss: 0.0109 - val_loss: 0.0097\n",
      "Epoch 118/200\n",
      "1125/1125 [==============================] - 0s 303us/step - loss: 0.0104 - val_loss: 0.0100\n",
      "Epoch 119/200\n",
      "1125/1125 [==============================] - 0s 302us/step - loss: 0.0094 - val_loss: 0.0097\n",
      "Epoch 120/200\n",
      "1125/1125 [==============================] - 0s 304us/step - loss: 0.0098 - val_loss: 0.0096\n",
      "Epoch 121/200\n",
      "1125/1125 [==============================] - 0s 303us/step - loss: 0.0098 - val_loss: 0.0113\n",
      "Epoch 122/200\n",
      "1125/1125 [==============================] - 0s 302us/step - loss: 0.0098 - val_loss: 0.0100\n",
      "Epoch 123/200\n",
      "1125/1125 [==============================] - 0s 303us/step - loss: 0.0100 - val_loss: 0.0102\n",
      "Epoch 124/200\n",
      "1125/1125 [==============================] - 0s 304us/step - loss: 0.0104 - val_loss: 0.0096\n",
      "Epoch 125/200\n",
      "1125/1125 [==============================] - 0s 302us/step - loss: 0.0105 - val_loss: 0.0099\n",
      "Epoch 126/200\n",
      "1125/1125 [==============================] - 0s 303us/step - loss: 0.0102 - val_loss: 0.0098\n",
      "Epoch 127/200\n",
      "1125/1125 [==============================] - 0s 304us/step - loss: 0.0109 - val_loss: 0.0097\n",
      "Epoch 128/200\n",
      "1125/1125 [==============================] - 0s 303us/step - loss: 0.0100 - val_loss: 0.0096\n",
      "Epoch 129/200\n",
      "1125/1125 [==============================] - 0s 304us/step - loss: 0.0102 - val_loss: 0.0101\n",
      "Epoch 130/200\n",
      "1125/1125 [==============================] - 0s 305us/step - loss: 0.0099 - val_loss: 0.0100\n",
      "Epoch 131/200\n",
      "1125/1125 [==============================] - 0s 304us/step - loss: 0.0102 - val_loss: 0.0097\n",
      "Epoch 132/200\n",
      "1125/1125 [==============================] - 0s 304us/step - loss: 0.0100 - val_loss: 0.0095\n",
      "Epoch 133/200\n",
      "1125/1125 [==============================] - 0s 304us/step - loss: 0.0105 - val_loss: 0.0098\n",
      "Epoch 134/200\n",
      "1125/1125 [==============================] - 0s 302us/step - loss: 0.0107 - val_loss: 0.0097\n",
      "Epoch 135/200\n",
      "1125/1125 [==============================] - 0s 308us/step - loss: 0.0100 - val_loss: 0.0103\n",
      "Epoch 136/200\n",
      "1125/1125 [==============================] - 0s 303us/step - loss: 0.0108 - val_loss: 0.0096\n",
      "Epoch 137/200\n",
      "1125/1125 [==============================] - 0s 303us/step - loss: 0.0102 - val_loss: 0.0098\n",
      "Epoch 138/200\n",
      "1125/1125 [==============================] - 0s 303us/step - loss: 0.0110 - val_loss: 0.0099\n",
      "Epoch 139/200\n",
      "1125/1125 [==============================] - 0s 302us/step - loss: 0.0108 - val_loss: 0.0096\n",
      "Epoch 140/200\n",
      "1125/1125 [==============================] - 0s 305us/step - loss: 0.0104 - val_loss: 0.0096\n",
      "Epoch 141/200\n",
      "1125/1125 [==============================] - 0s 304us/step - loss: 0.0107 - val_loss: 0.0099\n",
      "Epoch 142/200\n",
      "1125/1125 [==============================] - 0s 305us/step - loss: 0.0106 - val_loss: 0.0097\n",
      "Epoch 143/200\n",
      "1125/1125 [==============================] - 0s 303us/step - loss: 0.0110 - val_loss: 0.0100\n",
      "Epoch 144/200\n",
      "1125/1125 [==============================] - 0s 304us/step - loss: 0.0100 - val_loss: 0.0103\n",
      "Epoch 145/200\n",
      "1125/1125 [==============================] - 0s 306us/step - loss: 0.0101 - val_loss: 0.0100\n",
      "Epoch 146/200\n",
      "1125/1125 [==============================] - 0s 306us/step - loss: 0.0104 - val_loss: 0.0100\n",
      "Epoch 147/200\n",
      "1125/1125 [==============================] - 0s 304us/step - loss: 0.0101 - val_loss: 0.0097\n",
      "Epoch 148/200\n",
      "1125/1125 [==============================] - 0s 304us/step - loss: 0.0099 - val_loss: 0.0095\n",
      "Epoch 149/200\n",
      "1125/1125 [==============================] - 0s 304us/step - loss: 0.0106 - val_loss: 0.0096\n",
      "Epoch 150/200\n",
      "1125/1125 [==============================] - 0s 306us/step - loss: 0.0105 - val_loss: 0.0100\n",
      "Epoch 151/200\n",
      "1125/1125 [==============================] - 0s 305us/step - loss: 0.0111 - val_loss: 0.0104\n",
      "Epoch 152/200\n",
      "1125/1125 [==============================] - 0s 306us/step - loss: 0.0102 - val_loss: 0.0097\n",
      "Epoch 153/200\n",
      "1125/1125 [==============================] - 0s 304us/step - loss: 0.0100 - val_loss: 0.0101\n",
      "Epoch 154/200\n",
      "1125/1125 [==============================] - 0s 305us/step - loss: 0.0107 - val_loss: 0.0100\n"
     ]
    },
    {
     "name": "stdout",
     "output_type": "stream",
     "text": [
      "Epoch 155/200\n",
      "1125/1125 [==============================] - 0s 301us/step - loss: 0.0106 - val_loss: 0.0095\n",
      "Epoch 156/200\n",
      "1125/1125 [==============================] - 0s 301us/step - loss: 0.0105 - val_loss: 0.0106\n",
      "Epoch 157/200\n",
      "1125/1125 [==============================] - 0s 302us/step - loss: 0.0111 - val_loss: 0.0097\n",
      "Epoch 158/200\n",
      "1125/1125 [==============================] - 0s 299us/step - loss: 0.0102 - val_loss: 0.0097\n",
      "Epoch 159/200\n",
      "1125/1125 [==============================] - 0s 301us/step - loss: 0.0088 - val_loss: 0.0105\n",
      "Epoch 160/200\n",
      "1125/1125 [==============================] - 0s 302us/step - loss: 0.0104 - val_loss: 0.0097\n",
      "Epoch 161/200\n",
      "1125/1125 [==============================] - 0s 301us/step - loss: 0.0105 - val_loss: 0.0097\n",
      "Epoch 162/200\n",
      "1125/1125 [==============================] - 0s 302us/step - loss: 0.0105 - val_loss: 0.0099\n",
      "Epoch 163/200\n",
      "1125/1125 [==============================] - 0s 306us/step - loss: 0.0090 - val_loss: 0.0098\n",
      "Epoch 164/200\n",
      "1125/1125 [==============================] - 0s 301us/step - loss: 0.0108 - val_loss: 0.0097\n",
      "Epoch 165/200\n",
      "1125/1125 [==============================] - 0s 304us/step - loss: 0.0100 - val_loss: 0.0099\n",
      "Epoch 166/200\n",
      "1125/1125 [==============================] - 0s 304us/step - loss: 0.0092 - val_loss: 0.0098\n",
      "Epoch 167/200\n",
      "1125/1125 [==============================] - 0s 301us/step - loss: 0.0103 - val_loss: 0.0096\n",
      "Epoch 168/200\n",
      "1125/1125 [==============================] - 0s 303us/step - loss: 0.0103 - val_loss: 0.0099\n",
      "Epoch 169/200\n",
      "1125/1125 [==============================] - 0s 302us/step - loss: 0.0107 - val_loss: 0.0098\n",
      "Epoch 170/200\n",
      "1125/1125 [==============================] - 0s 302us/step - loss: 0.0104 - val_loss: 0.0103\n",
      "Epoch 171/200\n",
      "1125/1125 [==============================] - 0s 301us/step - loss: 0.0112 - val_loss: 0.0101\n",
      "Epoch 172/200\n",
      "1125/1125 [==============================] - 0s 304us/step - loss: 0.0108 - val_loss: 0.0097\n",
      "Epoch 173/200\n",
      "1125/1125 [==============================] - 0s 303us/step - loss: 0.0098 - val_loss: 0.0101\n",
      "Epoch 174/200\n",
      "1125/1125 [==============================] - 0s 305us/step - loss: 0.0108 - val_loss: 0.0098\n",
      "Epoch 175/200\n",
      "1125/1125 [==============================] - 0s 304us/step - loss: 0.0109 - val_loss: 0.0099\n",
      "Epoch 176/200\n",
      "1125/1125 [==============================] - 0s 306us/step - loss: 0.0097 - val_loss: 0.0100\n",
      "Epoch 177/200\n",
      "1125/1125 [==============================] - 0s 305us/step - loss: 0.0096 - val_loss: 0.0103\n",
      "Epoch 178/200\n",
      "1125/1125 [==============================] - 0s 306us/step - loss: 0.0104 - val_loss: 0.0101\n",
      "Epoch 179/200\n",
      "1125/1125 [==============================] - 0s 305us/step - loss: 0.0091 - val_loss: 0.0099\n",
      "Epoch 180/200\n",
      "1125/1125 [==============================] - 0s 303us/step - loss: 0.0102 - val_loss: 0.0096\n",
      "Epoch 181/200\n",
      "1125/1125 [==============================] - 0s 303us/step - loss: 0.0095 - val_loss: 0.0099\n",
      "Epoch 182/200\n",
      "1125/1125 [==============================] - 0s 302us/step - loss: 0.0101 - val_loss: 0.0098\n",
      "Epoch 183/200\n",
      "1125/1125 [==============================] - 0s 306us/step - loss: 0.0096 - val_loss: 0.0099\n",
      "Epoch 184/200\n",
      "1125/1125 [==============================] - 0s 304us/step - loss: 0.0091 - val_loss: 0.0098\n",
      "Epoch 185/200\n",
      "1125/1125 [==============================] - 0s 304us/step - loss: 0.0104 - val_loss: 0.0100\n",
      "Epoch 186/200\n",
      "1125/1125 [==============================] - 0s 305us/step - loss: 0.0102 - val_loss: 0.0104\n",
      "Epoch 187/200\n",
      "1125/1125 [==============================] - 0s 303us/step - loss: 0.0106 - val_loss: 0.0101\n",
      "Epoch 188/200\n",
      "1125/1125 [==============================] - 0s 306us/step - loss: 0.0105 - val_loss: 0.0097\n",
      "Epoch 189/200\n",
      "1125/1125 [==============================] - 0s 306us/step - loss: 0.0099 - val_loss: 0.0097\n",
      "Epoch 190/200\n",
      "1125/1125 [==============================] - 0s 307us/step - loss: 0.0097 - val_loss: 0.0100\n",
      "Epoch 191/200\n",
      "1125/1125 [==============================] - 0s 305us/step - loss: 0.0101 - val_loss: 0.0096\n",
      "Epoch 192/200\n",
      "1125/1125 [==============================] - 0s 305us/step - loss: 0.0099 - val_loss: 0.0101\n",
      "Epoch 193/200\n",
      "1125/1125 [==============================] - 0s 305us/step - loss: 0.0102 - val_loss: 0.0097\n",
      "Epoch 194/200\n",
      "1125/1125 [==============================] - 0s 304us/step - loss: 0.0094 - val_loss: 0.0094\n",
      "Epoch 195/200\n",
      "1125/1125 [==============================] - 0s 309us/step - loss: 0.0107 - val_loss: 0.0101\n",
      "Epoch 196/200\n",
      "1125/1125 [==============================] - 0s 305us/step - loss: 0.0109 - val_loss: 0.0098\n",
      "Epoch 197/200\n",
      "1125/1125 [==============================] - 0s 303us/step - loss: 0.0100 - val_loss: 0.0098\n",
      "Epoch 198/200\n",
      "1125/1125 [==============================] - 0s 304us/step - loss: 0.0102 - val_loss: 0.0099\n",
      "Epoch 199/200\n",
      "1125/1125 [==============================] - 0s 304us/step - loss: 0.0102 - val_loss: 0.0094\n",
      "Epoch 200/200\n",
      "1125/1125 [==============================] - 0s 303us/step - loss: 0.0107 - val_loss: 0.0097\n"
     ]
    }
   ],
   "source": [
    "history = model.fit( X_train, Y_train, validation_split=0.1, \n",
    "                    epochs=200 )\n"
   ]
  },
  {
   "cell_type": "markdown",
   "id": "extended-wheel",
   "metadata": {},
   "source": [
    "## Testing and Evaluating"
   ]
  },
  {
   "cell_type": "code",
   "execution_count": 134,
   "id": "impaired-bikini",
   "metadata": {
    "scrolled": false
   },
   "outputs": [
    {
     "data": {
      "image/png": "[encoded data removed]",
      "text/plain": [
       "<Figure size 864x576 with 1 Axes>"
      ]
     },
     "metadata": {
      "needs_background": "light"
     },
     "output_type": "display_data"
    }
   ],
   "source": [
    "# summarize history for loss\n",
    "plt.figure( figsize=(12,8) )\n",
    "plt.plot(history.history['loss'])\n",
    "plt.plot(history.history['val_loss'])\n",
    "plt.title('Model Loss')\n",
    "plt.ylabel('loss')\n",
    "plt.xlabel('epoch')\n",
    "plt.legend(['train', 'val'], loc='upper right')\n",
    "plt.ylim([0, 0.03])\n",
    "plt.show()"
   ]
  },
  {
   "cell_type": "code",
   "execution_count": 135,
   "id": "fiscal-prefix",
   "metadata": {},
   "outputs": [
    {
     "name": "stdout",
     "output_type": "stream",
     "text": [
      "Test loss: 0.0054\n"
     ]
    }
   ],
   "source": [
    "loss_test = model.evaluate(X_test, Y_test, verbose=0)\n",
    "print( 'Test loss: %.4f' % loss_test )"
   ]
  },
  {
   "cell_type": "code",
   "execution_count": 136,
   "id": "horizontal-analyst",
   "metadata": {},
   "outputs": [
    {
     "name": "stdout",
     "output_type": "stream",
     "text": [
      "MSE: 0.010646\n"
     ]
    }
   ],
   "source": [
    "Y_pred = model.predict(X_train)\n",
    "mse = mean_squared_error(Y_train, Y_pred)\n",
    "print('MSE: %f' % mse)"
   ]
  },
  {
   "cell_type": "markdown",
   "id": "buried-freight",
   "metadata": {},
   "source": [
    "\"multiply_ML()\" function takes two numbers and finds signs of these numbers. Then the absolute value of these numbers is taken. Accordingly, the signs of these numbers and the \"ln()\" value of their absolute values are sent to the network. \n",
    "\n",
    "The network outputs 2-D vector. In this way, we can obtain the sign and the result of the multiplication as separate results and combine them.. "
   ]
  },
  {
   "cell_type": "code",
   "execution_count": 124,
   "id": "signed-threat",
   "metadata": {},
   "outputs": [],
   "source": [
    "def multiply_ML(num1, num2):\n",
    "    \n",
    "    num1_abs = np.abs(num1)\n",
    "    num2_abs = np.abs(num2)\n",
    "    \n",
    "    if np.abs( num1 ) != num1 and np.abs( num2 ) == num2:\n",
    "        test = np.array( [ -np.log( num1_abs ), np.log( num2_abs ) ] ).reshape( -1, 1 ).T\n",
    "    elif np.abs( num1 ) == num1 and np.abs( num2 ) != num2:\n",
    "        test = np.array( [ np.log( num1_abs ), -np.log( num2_abs ) ] ).reshape( -1, 1 ).T\n",
    "    elif np.abs( num1 ) != num1 and np.abs( num2 ) != num2:\n",
    "        test = np.array( [ -np.log( num1_abs ), -np.log( num2_abs ) ] ).reshape( -1, 1 ).T\n",
    "    else:\n",
    "        test = np.array( [ np.log( num1_abs ), np.log( num2_abs ) ] ).reshape( -1, 1 ).T\n",
    "        \n",
    "    [(sign, pred)] = model.predict( test )\n",
    "    \n",
    "    if sign > 0:\n",
    "        pred =  1 * np.exp( pred )\n",
    "    else:\n",
    "        pred = -1 * np.exp( pred )\n",
    "\n",
    "    return pred\n",
    "        "
   ]
  },
  {
   "cell_type": "code",
   "execution_count": 137,
   "id": "medieval-trainer",
   "metadata": {},
   "outputs": [
    {
     "name": "stdout",
     "output_type": "stream",
     "text": [
      "  10    x  2     => predicted : 20.088956832885742    \treal : 20\n",
      "  3.5   x  4     => predicted : 13.962873458862305   \treal : 14.0\n",
      " -5     x  4     => predicted : -19.864994049072266    \treal : -20\n",
      "  10.5  x  -1.5  => predicted : -14.71743106842041   \treal : -15.75\n",
      "  200   x  200   => predicted : 41486.54296875     \treal : 40000\n",
      "  -1.5  x  48.6  => predicted : -71.5956802368164    \treal : -72.9\n",
      "  1.5   x  48.6  => predicted : 71.30587768554688   \treal : 72.9\n",
      "  36    x  34    => predicted : 1223.7117919921875     \treal : 1224\n"
     ]
    }
   ],
   "source": [
    "print( f\"  10    x  2     => predicted : {multiply_ML(10, 2)}    \\treal : {10 * 2}\" )\n",
    "print( f\"  3.5   x  4     => predicted : {multiply_ML(3.5, 4)}   \\treal : {3.5 * 4}\" )\n",
    "print( f\" -5     x  4     => predicted : {multiply_ML(-5, 4)}    \\treal : {-5 * 4}\" )\n",
    "print( f\"  10.5  x  -1.5  => predicted : {multiply_ML(10.5, -1.5)}   \\treal : {10.5 * -1.5}\" ) \n",
    "print( f\"  200   x  200   => predicted : {multiply_ML(200, 200)}     \\treal : {200 * 200}\" ) \n",
    "print( f\"  -1.5  x  48.6  => predicted : {multiply_ML(-1.5, 48.6)}    \\treal : {-1.5 * 48.6}\" ) \n",
    "print( f\"  1.5   x  48.6  => predicted : {multiply_ML(1.5, 48.6)}   \\treal : {1.5 * 48.6}\" ) \n",
    "print( f\"  36    x  34    => predicted : {multiply_ML(36, 34)}     \\treal : {36 * 34}\" ) "
   ]
  },
  {
   "cell_type": "code",
   "execution_count": 138,
   "id": "distinguished-internet",
   "metadata": {},
   "outputs": [
    {
     "name": "stdout",
     "output_type": "stream",
     "text": [
      " 21 x 0.5 => predicted : -41.9718132019043   real : 10.5\n"
     ]
    }
   ],
   "source": [
    "## Model fails when one of the numbers is between 0 and 1\n",
    "print( f\" 21 x 0.5 => predicted : {multiply_ML(21, 0.5)}   real : {21 * 0.5}\" ) ## "
   ]
  },
  {
   "cell_type": "code",
   "execution_count": 139,
   "id": "cooked-realtor",
   "metadata": {},
   "outputs": [
    {
     "data": {
      "text/plain": [
       "-4.301172256469727"
      ]
     },
     "execution_count": 139,
     "metadata": {},
     "output_type": "execute_result"
    }
   ],
   "source": [
    "multiply_ML(2, -2)"
   ]
  },
  {
   "cell_type": "markdown",
   "id": "boolean-programmer",
   "metadata": {},
   "source": [
    "### Save Dataset"
   ]
  },
  {
   "cell_type": "code",
   "execution_count": 205,
   "id": "stopped-unemployment",
   "metadata": {},
   "outputs": [],
   "source": [
    "with open('train.npy', 'wb') as f:\n",
    "    np.save(f, X_train)\n",
    "    np.save(f, Y_train)\n",
    "    \n",
    "with open('validation.npy', 'wb') as f:\n",
    "    np.save(f, X_val)\n",
    "    np.save(f, Y_val)\n",
    "    \n",
    "with open('test.npy', 'wb') as f:\n",
    "    np.save(f, X_test)\n",
    "    np.save(f, Y_test)"
   ]
  },
  {
   "cell_type": "markdown",
   "id": "qualified-birmingham",
   "metadata": {},
   "source": [
    "## Save Model"
   ]
  },
  {
   "cell_type": "code",
   "execution_count": 184,
   "id": "rural-dating",
   "metadata": {},
   "outputs": [],
   "source": [
    "model.save(\"model_1.h5\")"
   ]
  }
 ],
 "metadata": {
  "kernelspec": {
   "display_name": "Python 3.8.6 64-bit ('tensor': conda)",
   "language": "python",
   "name": "python38664bittensorconda609c154a24774adb9b1b7af81d36243e"
  },
  "language_info": {
   "codemirror_mode": {
    "name": "ipython",
    "version": 3
   },
   "file_extension": ".py",
   "mimetype": "text/x-python",
   "name": "python",
   "nbconvert_exporter": "python",
   "pygments_lexer": "ipython3",
   "version": "3.8.6"
  }
 },
 "nbformat": 4,
 "nbformat_minor": 5
}
